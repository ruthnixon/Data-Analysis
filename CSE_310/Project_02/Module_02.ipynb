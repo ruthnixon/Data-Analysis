{
 "cells": [
  {
   "cell_type": "code",
   "execution_count": null,
   "metadata": {},
   "outputs": [],
   "source": [
    "### Importing different packages\n",
    "\n",
    "import pandas as pd \n",
    "import numpy as np\n",
    "import altair as alt"
   ]
  },
  {
   "cell_type": "code",
   "execution_count": null,
   "metadata": {},
   "outputs": [],
   "source": [
    "### The code below is reading the data from astronauts csv \n",
    "\n",
    "astronauts_data = pd.read_csv(\"astronauts.csv\")\n",
    "astronauts_data"
   ]
  },
  {
   "cell_type": "code",
   "execution_count": null,
   "metadata": {},
   "outputs": [],
   "source": [
    "### My first question is: Which astronauts had the highest spaceflight to spaceflight hours ratio? \n",
    "### The code calculates the spaceflight_ratio by dividing the spaceflight hours by the number of spaceflights\n",
    "\n",
    "astronauts_data[\"spaceflight_ratio\"] = ((astronauts_data[\"Space Flight (hr)\"] / astronauts_data[\"Space Flights\"]))\n",
    "astronauts_data.filter([\"Name\", \"Gender\", \"spaceflight_ratio\"]).sort_values(by = \"spaceflight_ratio\", ascending= False)\n"
   ]
  },
  {
   "cell_type": "code",
   "execution_count": null,
   "metadata": {},
   "outputs": [],
   "source": [
    "### The code below ask for the data that has a value we are looking for \n",
    "### Here I am splitting the data set by gender for future use \n",
    "\n",
    "female_data = astronauts_data.query(\"Gender == 'Female'\")\n",
    "female_data\n",
    "\n",
    "male_data = astronauts_data.query(\"Gender == 'Male'\")\n",
    "male_data"
   ]
  },
  {
   "cell_type": "code",
   "execution_count": null,
   "metadata": {},
   "outputs": [],
   "source": [
    "### The code below gets the result for the highest spaceflight ratio for the male and female astronauts. \n",
    "\n",
    "female_max = female_data[\"spaceflight_ratio\"].max()\n",
    "male_max = male_data[\"spaceflight_ratio\"].max()\n",
    "\n",
    "print(f\"The highest spaceflight ratio for the female astronauts was: {female_max}.\")\n",
    "print(f\"The highest spaceflight_ratio for the male astronauts was: {male_max}.\")\n"
   ]
  },
  {
   "cell_type": "code",
   "execution_count": null,
   "metadata": {},
   "outputs": [],
   "source": [
    "### This code will calculate the average spaceflight_ratio for all astronauts. \n",
    "\n",
    "average = astronauts_data[\"spaceflight_ratio\"].mean()\n",
    "\n",
    "print(f\"The average spaceflight-ratio for all astronauts was: {average}.\")"
   ]
  },
  {
   "cell_type": "code",
   "execution_count": null,
   "metadata": {},
   "outputs": [],
   "source": [
    "### The code below creates a chart that shows the average spaceflight hours per spaceflight for the female astronauts. \n",
    "### It only shows us the top 10 results. \n",
    "\n",
    "female_spaceflight_Chart = (alt.Chart(female_data.sort_values(\"spaceflight_ratio\", ascending = False).head(10))\n",
    "    .encode(\n",
    "        x = 'spaceflight_ratio:Q',\n",
    "        y = 'Name'\n",
    "    )\n",
    "    .mark_bar()\n",
    "    .properties(width = 800))\n",
    "\n",
    "female_spaceflight_Chart"
   ]
  },
  {
   "cell_type": "code",
   "execution_count": null,
   "metadata": {},
   "outputs": [],
   "source": [
    "### The code below creates a chart that shows the average spaceflight hours per spaceflight for the male astronauts.\n",
    "\n",
    "male_spaceflight_Chart = (alt.Chart(male_data.sort_values(\"spaceflight_ratio\", ascending = False).head(10))\n",
    "    .encode(\n",
    "        x = 'spaceflight_ratio:Q',\n",
    "        y = 'Name'\n",
    "    )\n",
    "    .mark_bar()\n",
    "    .properties(width = 800))\n",
    "\n",
    "male_spaceflight_Chart"
   ]
  },
  {
   "cell_type": "code",
   "execution_count": null,
   "metadata": {},
   "outputs": [],
   "source": [
    "### My second question is: what years had the most female and male astronauts?\n",
    "### This code groups female data that has the same value for year\n",
    "\n",
    "female_data.groupby(\"Year\").count()[\"Name\"]"
   ]
  },
  {
   "cell_type": "code",
   "execution_count": null,
   "metadata": {},
   "outputs": [],
   "source": [
    "### The code below creates a chart showing the female year data we got eralier\n",
    "\n",
    "female_chart = (alt.Chart(female_data)\n",
    "    .encode(\n",
    "        x = 'Year:O',\n",
    "        y = 'count()'\n",
    "    )\n",
    "    .mark_bar()\n",
    "    .properties(width = 800))\n",
    "\n",
    "female_chart"
   ]
  },
  {
   "cell_type": "code",
   "execution_count": null,
   "metadata": {},
   "outputs": [],
   "source": [
    "### This code groups male data that has the same value for year\n",
    "\n",
    "male_data.groupby(\"Year\").count()[\"Name\"]"
   ]
  },
  {
   "cell_type": "code",
   "execution_count": null,
   "metadata": {},
   "outputs": [],
   "source": [
    "### The code below creates a chart showing the male year data we got eralier\n",
    "\n",
    "male_chart = (alt.Chart(male_data)\n",
    "    .encode(\n",
    "        x = 'Year:O',\n",
    "        y = 'count()'\n",
    "    )\n",
    "    .mark_bar()\n",
    "    .properties(width = 800))\n",
    "\n",
    "male_chart"
   ]
  },
  {
   "cell_type": "code",
   "execution_count": null,
   "metadata": {},
   "outputs": [],
   "source": [
    "### My third question is: what are the average spacewalk hours for all the female and male astronauts? \n",
    "### The code below gets the average space walk hours for all the female astronauts \n",
    "\n",
    "female_average_hours = female_data[\"Space Walks (hr)\"].mean()\n",
    "female_average_hours"
   ]
  },
  {
   "cell_type": "code",
   "execution_count": null,
   "metadata": {},
   "outputs": [],
   "source": [
    "### The code below gets the average space walk hours for all the male astronauts\n",
    "\n",
    "male_average_hours = male_data[\"Space Walks (hr)\"].mean()\n",
    "male_average_hours\n"
   ]
  },
  {
   "cell_type": "code",
   "execution_count": null,
   "metadata": {},
   "outputs": [],
   "source": [
    "### My fourth question is: what major is best to become an astronaut? \n",
    "### This code will calculate the percentage for each major by dividing by the number of astronauts and multiply it by 100\n",
    "\n",
    "percent = (astronauts_data.groupby(\"Undergraduate Major\").count() / len(astronauts_data) * 100)['Name'].sort_values()\n",
    "percent"
   ]
  }
 ],
 "metadata": {
  "interpreter": {
   "hash": "adac69364c23a7b70b13295af2051c186e9f45e3152065999c5b76ac126fc881"
  },
  "kernelspec": {
   "display_name": "Python 3.9.7 64-bit",
   "name": "python3"
  },
  "language_info": {
   "codemirror_mode": {
    "name": "ipython",
    "version": 3
   },
   "file_extension": ".py",
   "mimetype": "text/x-python",
   "name": "python",
   "nbconvert_exporter": "python",
   "pygments_lexer": "ipython3",
   "version": "3.9.7"
  },
  "orig_nbformat": 4
 },
 "nbformat": 4,
 "nbformat_minor": 2
}
